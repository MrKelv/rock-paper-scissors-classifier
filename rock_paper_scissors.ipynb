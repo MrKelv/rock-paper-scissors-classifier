{
  "nbformat": 4,
  "nbformat_minor": 0,
  "metadata": {
    "colab": {
      "name": "rock-paper-scissors.ipynb",
      "provenance": []
    },
    "kernelspec": {
      "name": "python3",
      "display_name": "Python 3"
    },
    "language_info": {
      "name": "python"
    },
    "accelerator": "GPU",
    "gpuClass": "standard"
  },
  "cells": [
    {
      "cell_type": "code",
      "execution_count": 1,
      "metadata": {
        "id": "zsEWEHvxnaiu"
      },
      "outputs": [],
      "source": [
        "import tensorflow as tf\n",
        "from tensorflow.keras.preprocessing.image import ImageDataGenerator"
      ]
    },
    {
      "cell_type": "code",
      "source": [
        "!wget \"https://github.com/dicodingacademy/assets/releases/download/release-rps/rps.zip\""
      ],
      "metadata": {
        "id": "lbd8DMOE7A0Q"
      },
      "execution_count": null,
      "outputs": []
    },
    {
      "cell_type": "code",
      "source": [
        "!unzip \"/content/rps.zip\""
      ],
      "metadata": {
        "id": "VBb08MqA7fIf"
      },
      "execution_count": null,
      "outputs": []
    },
    {
      "cell_type": "code",
      "source": [
        "main_path = \"/content/rps\""
      ],
      "metadata": {
        "id": "NtummKre82ix"
      },
      "execution_count": 4,
      "outputs": []
    },
    {
      "cell_type": "code",
      "source": [
        "train_data = ImageDataGenerator(\n",
        "    rescale=1.0/255,\n",
        "    shear_range=0.2,\n",
        "    zoom_range=0.2,\n",
        "    validation_split=0.2)"
      ],
      "metadata": {
        "id": "0SztVPFw88KQ"
      },
      "execution_count": 5,
      "outputs": []
    },
    {
      "cell_type": "code",
      "source": [
        "train_gen = train_data.flow_from_directory(\n",
        "    main_path,\n",
        "    target_size=(150, 150),\n",
        "    class_mode='categorical',\n",
        "    subset='training'\n",
        ")"
      ],
      "metadata": {
        "id": "yfgjcyhI9Iq3",
        "outputId": "7dbd4b7f-d8af-4a21-d982-4054b2b64643",
        "colab": {
          "base_uri": "https://localhost:8080/"
        }
      },
      "execution_count": 6,
      "outputs": [
        {
          "output_type": "stream",
          "name": "stdout",
          "text": [
            "Found 2016 images belonging to 3 classes.\n"
          ]
        }
      ]
    },
    {
      "cell_type": "code",
      "source": [
        "test_gen = train_data.flow_from_directory(\n",
        "    main_path,\n",
        "    target_size=(150, 150),\n",
        "    class_mode='categorical',\n",
        "    subset='validation'\n",
        ")"
      ],
      "metadata": {
        "id": "zAiTORQP9dL3",
        "outputId": "32812677-0d8b-48f9-f63f-1e4ef98d3760",
        "colab": {
          "base_uri": "https://localhost:8080/"
        }
      },
      "execution_count": 7,
      "outputs": [
        {
          "output_type": "stream",
          "name": "stdout",
          "text": [
            "Found 504 images belonging to 3 classes.\n"
          ]
        }
      ]
    },
    {
      "cell_type": "code",
      "source": [
        "model = tf.keras.models.Sequential(\n",
        "        [\n",
        "         tf.keras.layers.Conv2D(\n",
        "             16, (3, 3), activation=\"relu\", input_shape=(150, 150, 3)\n",
        "        ),\n",
        "        tf.keras.layers.MaxPool2D(2, 2),\n",
        "        tf.keras.layers.Conv2D(16, (3, 3), activation=\"relu\"),\n",
        "        tf.keras.layers.MaxPool2D(2, 2),\n",
        "        tf.keras.layers.Conv2D(32, (3, 3), activation=\"relu\"),\n",
        "        tf.keras.layers.MaxPool2D(2, 2),\n",
        "         tf.keras.layers.Conv2D(64, (3, 3), activation=\"relu\"),\n",
        "        tf.keras.layers.MaxPool2D(2, 2),\n",
        "        tf.keras.layers.Flatten(),\n",
        "        tf.keras.layers.Dropout(0.8),\n",
        "        tf.keras.layers.Dense(256, activation=\"relu\"),\n",
        "        tf.keras.layers.Dense(units=3, activation=\"softmax\"),\n",
        "    ]\n",
        "    )\n",
        "model.compile(\n",
        "    optimizer=\"adam\", loss=\"categorical_crossentropy\", metrics=[\"accuracy\"]\n",
        ")"
      ],
      "metadata": {
        "id": "cr8QLwmU9t_4"
      },
      "execution_count": 12,
      "outputs": []
    },
    {
      "cell_type": "code",
      "source": [
        "history = model.fit(train_gen, validation_data=test_gen, epochs=15, verbose=1)"
      ],
      "metadata": {
        "id": "VdcAPFsT_HeK",
        "outputId": "175954ed-06fa-4117-cf29-56b8af8d3cd6",
        "colab": {
          "base_uri": "https://localhost:8080/"
        }
      },
      "execution_count": 13,
      "outputs": [
        {
          "output_type": "stream",
          "name": "stdout",
          "text": [
            "Epoch 1/15\n",
            "63/63 [==============================] - 19s 294ms/step - loss: 0.7833 - accuracy: 0.6245 - val_loss: 0.3827 - val_accuracy: 0.7679\n",
            "Epoch 2/15\n",
            "63/63 [==============================] - 18s 290ms/step - loss: 0.1822 - accuracy: 0.9335 - val_loss: 0.2669 - val_accuracy: 0.8611\n",
            "Epoch 3/15\n",
            "63/63 [==============================] - 18s 289ms/step - loss: 0.0728 - accuracy: 0.9802 - val_loss: 0.2166 - val_accuracy: 0.8988\n",
            "Epoch 4/15\n",
            "63/63 [==============================] - 18s 289ms/step - loss: 0.0499 - accuracy: 0.9816 - val_loss: 0.1673 - val_accuracy: 0.9246\n",
            "Epoch 5/15\n",
            "63/63 [==============================] - 18s 286ms/step - loss: 0.0621 - accuracy: 0.9797 - val_loss: 0.1515 - val_accuracy: 0.9325\n",
            "Epoch 6/15\n",
            "63/63 [==============================] - 18s 287ms/step - loss: 0.0460 - accuracy: 0.9851 - val_loss: 0.2529 - val_accuracy: 0.8710\n",
            "Epoch 7/15\n",
            "63/63 [==============================] - 18s 289ms/step - loss: 0.0241 - accuracy: 0.9926 - val_loss: 0.2435 - val_accuracy: 0.8810\n",
            "Epoch 8/15\n",
            "63/63 [==============================] - 18s 289ms/step - loss: 0.0223 - accuracy: 0.9931 - val_loss: 0.0863 - val_accuracy: 0.9702\n",
            "Epoch 9/15\n",
            "63/63 [==============================] - 18s 287ms/step - loss: 0.0273 - accuracy: 0.9916 - val_loss: 0.2270 - val_accuracy: 0.8829\n",
            "Epoch 10/15\n",
            "63/63 [==============================] - 18s 288ms/step - loss: 0.0207 - accuracy: 0.9960 - val_loss: 0.1591 - val_accuracy: 0.9246\n",
            "Epoch 11/15\n",
            "63/63 [==============================] - 18s 286ms/step - loss: 0.0176 - accuracy: 0.9940 - val_loss: 0.2071 - val_accuracy: 0.9246\n",
            "Epoch 12/15\n",
            "63/63 [==============================] - 18s 286ms/step - loss: 0.0302 - accuracy: 0.9926 - val_loss: 0.0917 - val_accuracy: 0.9643\n",
            "Epoch 13/15\n",
            "63/63 [==============================] - 19s 301ms/step - loss: 0.0195 - accuracy: 0.9945 - val_loss: 0.1398 - val_accuracy: 0.9365\n",
            "Epoch 14/15\n",
            "63/63 [==============================] - 18s 288ms/step - loss: 0.0089 - accuracy: 0.9975 - val_loss: 0.0754 - val_accuracy: 0.9583\n",
            "Epoch 15/15\n",
            "63/63 [==============================] - 18s 289ms/step - loss: 0.0060 - accuracy: 0.9980 - val_loss: 0.2589 - val_accuracy: 0.9206\n"
          ]
        }
      ]
    },
    {
      "cell_type": "code",
      "source": [
        "model.evaluate(train_gen)"
      ],
      "metadata": {
        "id": "-Bn-C6pi_JAm",
        "outputId": "64b5b66a-ea48-40a0-a5ea-9973ec8a8221",
        "colab": {
          "base_uri": "https://localhost:8080/"
        }
      },
      "execution_count": 14,
      "outputs": [
        {
          "output_type": "stream",
          "name": "stdout",
          "text": [
            "63/63 [==============================] - 14s 229ms/step - loss: 3.4374e-04 - accuracy: 1.0000\n"
          ]
        },
        {
          "output_type": "execute_result",
          "data": {
            "text/plain": [
              "[0.00034374400274828076, 1.0]"
            ]
          },
          "metadata": {},
          "execution_count": 14
        }
      ]
    },
    {
      "cell_type": "code",
      "source": [
        "model.evaluate(test_gen)"
      ],
      "metadata": {
        "id": "CuvrPDl1AJAr",
        "outputId": "cc847dea-683b-4501-fbe2-c83199f4d742",
        "colab": {
          "base_uri": "https://localhost:8080/"
        }
      },
      "execution_count": 15,
      "outputs": [
        {
          "output_type": "stream",
          "name": "stdout",
          "text": [
            "16/16 [==============================] - 3s 213ms/step - loss: 0.2019 - accuracy: 0.9266\n"
          ]
        },
        {
          "output_type": "execute_result",
          "data": {
            "text/plain": [
              "[0.20191025733947754, 0.9265872836112976]"
            ]
          },
          "metadata": {},
          "execution_count": 15
        }
      ]
    }
  ]
}
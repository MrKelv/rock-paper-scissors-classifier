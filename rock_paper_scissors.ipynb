{
  "nbformat": 4,
  "nbformat_minor": 0,
  "metadata": {
    "colab": {
      "name": "rock-paper-scissors.ipynb",
      "provenance": [],
      "include_colab_link": true
    },
    "kernelspec": {
      "name": "python3",
      "display_name": "Python 3"
    },
    "language_info": {
      "name": "python"
    }
  },
  "cells": [
    {
      "cell_type": "markdown",
      "metadata": {
        "id": "view-in-github",
        "colab_type": "text"
      },
      "source": [
        "<a href=\"https://colab.research.google.com/github/MrKelv/full-tensorflow-rock-paper-scissors/blob/main/rock_paper_scissors.ipynb\" target=\"_parent\"><img src=\"https://colab.research.google.com/assets/colab-badge.svg\" alt=\"Open In Colab\"/></a>"
      ]
    },
    {
      "cell_type": "code",
      "execution_count": 1,
      "metadata": {
        "id": "zsEWEHvxnaiu"
      },
      "outputs": [],
      "source": [
        "import tensorflow as tf\n",
        "import tensorflow_datasets as tfds\n",
        "from tensorflow.keras.preprocessing.image import ImageDataGenerator"
      ]
    },
    {
      "cell_type": "code",
      "source": [
        "data, info = tfds.load(name='rock_paper_scissors',\n",
        "                       split=['train','test'],\n",
        "                       as_supervised=True,\n",
        "                       with_info=True)"
      ],
      "metadata": {
        "id": "gv1lC_D6ddMT"
      },
      "execution_count": 2,
      "outputs": []
    },
    {
      "cell_type": "code",
      "source": [
        "train, test = data"
      ],
      "metadata": {
        "id": "-QPijur0ds_K"
      },
      "execution_count": 3,
      "outputs": []
    },
    {
      "cell_type": "code",
      "source": [
        "print(f\"Data Shape : {info.features['image'].shape}\")\n",
        "print(f\"Classifier : {info.features['label'].num_classes}\")"
      ],
      "metadata": {
        "id": "IDw1zJmzB3Qh",
        "outputId": "f39bc335-2868-4d00-8218-48448bc840d9",
        "colab": {
          "base_uri": "https://localhost:8080/"
        }
      },
      "execution_count": 4,
      "outputs": [
        {
          "output_type": "stream",
          "name": "stdout",
          "text": [
            "Data Shape : (300, 300, 3)\n",
            "Classifier : 3\n"
          ]
        }
      ]
    },
    {
      "cell_type": "code",
      "source": [
        "print(f\"Banyak Data Train : {info.splits['train'].num_examples}\")\n",
        "print(f\"Banyak Data Test : {info.splits['test'].num_examples}\")"
      ],
      "metadata": {
        "id": "H88Q5f3BB7pR",
        "outputId": "5b47f7af-37c9-488b-8af6-19dfe2085dcc",
        "colab": {
          "base_uri": "https://localhost:8080/"
        }
      },
      "execution_count": 5,
      "outputs": [
        {
          "output_type": "stream",
          "name": "stdout",
          "text": [
            "Banyak Data Train : 2520\n",
            "Banyak Data Test : 372\n"
          ]
        }
      ]
    },
    {
      "cell_type": "code",
      "source": [
        "print(type(train))\n",
        "print(type(test))"
      ],
      "metadata": {
        "id": "NZEbi7Hce6GO",
        "outputId": "98be0663-0bce-4ddc-d9ea-2dea6f9b3ca3",
        "colab": {
          "base_uri": "https://localhost:8080/"
        }
      },
      "execution_count": 6,
      "outputs": [
        {
          "output_type": "stream",
          "name": "stdout",
          "text": [
            "<class 'tensorflow.python.data.ops.dataset_ops.PrefetchDataset'>\n",
            "<class 'tensorflow.python.data.ops.dataset_ops.PrefetchDataset'>\n"
          ]
        }
      ]
    },
    {
      "cell_type": "code",
      "source": [
        "training_datagen = ImageDataGenerator(\n",
        "    rescale=1.0 / 255,\n",
        "    shear_range=0.2,\n",
        "    zoom_range=0.2\n",
        ")"
      ],
      "metadata": {
        "id": "pkSe1Lz-yIv6"
      },
      "execution_count": 7,
      "outputs": []
    }
  ]
}
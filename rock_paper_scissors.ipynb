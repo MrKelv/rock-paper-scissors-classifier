{
  "nbformat": 4,
  "nbformat_minor": 0,
  "metadata": {
    "colab": {
      "name": "rock-paper-scissors.ipynb",
      "provenance": []
    },
    "kernelspec": {
      "name": "python3",
      "display_name": "Python 3"
    },
    "language_info": {
      "name": "python"
    },
    "accelerator": "GPU",
    "gpuClass": "standard"
  },
  "cells": [
    {
      "cell_type": "code",
      "execution_count": 1,
      "metadata": {
        "id": "zsEWEHvxnaiu"
      },
      "outputs": [],
      "source": [
        "import tensorflow as tf\n",
        "from tensorflow.keras.preprocessing.image import ImageDataGenerator"
      ]
    },
    {
      "cell_type": "code",
      "source": [
        "!wget \"https://github.com/dicodingacademy/assets/releases/download/release-rps/rps.zip\""
      ],
      "metadata": {
        "id": "lbd8DMOE7A0Q"
      },
      "execution_count": null,
      "outputs": []
    },
    {
      "cell_type": "code",
      "source": [
        "!unzip \"/content/rps.zip\""
      ],
      "metadata": {
        "id": "VBb08MqA7fIf"
      },
      "execution_count": null,
      "outputs": []
    },
    {
      "cell_type": "code",
      "source": [
        "main_path = \"/content/rps\""
      ],
      "metadata": {
        "id": "NtummKre82ix"
      },
      "execution_count": 4,
      "outputs": []
    },
    {
      "cell_type": "code",
      "source": [
        "train_data = ImageDataGenerator(\n",
        "    rescale=1.0/255,\n",
        "    shear_range=0.2,\n",
        "    zoom_range=0.2,\n",
        "    validation_split=0.2)"
      ],
      "metadata": {
        "id": "0SztVPFw88KQ"
      },
      "execution_count": 5,
      "outputs": []
    },
    {
      "cell_type": "code",
      "source": [
        "train_gen = train_data.flow_from_directory(\n",
        "    main_path,\n",
        "    target_size=(150, 150),\n",
        "    class_mode='categorical',\n",
        "    subset='training'\n",
        ")"
      ],
      "metadata": {
        "colab": {
          "base_uri": "https://localhost:8080/"
        },
        "id": "yfgjcyhI9Iq3",
        "outputId": "7dbd4b7f-d8af-4a21-d982-4054b2b64643"
      },
      "execution_count": 6,
      "outputs": [
        {
          "output_type": "stream",
          "name": "stdout",
          "text": [
            "Found 2016 images belonging to 3 classes.\n"
          ]
        }
      ]
    },
    {
      "cell_type": "code",
      "source": [
        "test_gen = train_data.flow_from_directory(\n",
        "    main_path,\n",
        "    target_size=(150, 150),\n",
        "    class_mode='categorical',\n",
        "    subset='validation'\n",
        ")"
      ],
      "metadata": {
        "colab": {
          "base_uri": "https://localhost:8080/"
        },
        "id": "zAiTORQP9dL3",
        "outputId": "32812677-0d8b-48f9-f63f-1e4ef98d3760"
      },
      "execution_count": 7,
      "outputs": [
        {
          "output_type": "stream",
          "name": "stdout",
          "text": [
            "Found 504 images belonging to 3 classes.\n"
          ]
        }
      ]
    },
    {
      "cell_type": "code",
      "source": [
        "class sup_callback(tf.keras.callbacks.Callback):\n",
        "  def on_epoch_end(self, epoch, logs={}):\n",
        "    if logs.get(\"accuracy\") > 0.95 and logs.get(\"val_accuracy\") > 0.95:\n",
        "      self.model.stop_training = True\n",
        "\n",
        "scb = sup_callback()"
      ],
      "metadata": {
        "id": "aoJVQoUsDnrd"
      },
      "execution_count": 18,
      "outputs": []
    },
    {
      "cell_type": "code",
      "source": [
        "model = tf.keras.models.Sequential(\n",
        "        [\n",
        "         tf.keras.layers.Conv2D(\n",
        "             16, (3, 3), activation=\"relu\", input_shape=(150, 150, 3)\n",
        "        ),\n",
        "        tf.keras.layers.MaxPool2D(2, 2),\n",
        "        tf.keras.layers.Conv2D(16, (3, 3), activation=\"relu\"),\n",
        "        tf.keras.layers.MaxPool2D(2, 2),\n",
        "        tf.keras.layers.Conv2D(32, (3, 3), activation=\"relu\"),\n",
        "        tf.keras.layers.MaxPool2D(2, 2),\n",
        "         tf.keras.layers.Conv2D(64, (3, 3), activation=\"relu\"),\n",
        "        tf.keras.layers.MaxPool2D(2, 2),\n",
        "        tf.keras.layers.Flatten(),\n",
        "        tf.keras.layers.Dropout(0.8),\n",
        "        tf.keras.layers.Dense(256, activation=\"relu\"),\n",
        "        tf.keras.layers.Dense(units=3, activation=\"softmax\"),\n",
        "    ]\n",
        "    )\n",
        "model.compile(\n",
        "    optimizer=\"adam\", loss=\"categorical_crossentropy\", metrics=[\"accuracy\"]\n",
        ")"
      ],
      "metadata": {
        "id": "cr8QLwmU9t_4"
      },
      "execution_count": 19,
      "outputs": []
    },
    {
      "cell_type": "code",
      "source": [
        "history = model.fit(train_gen, validation_data=test_gen, epochs=15, verbose=1, callbacks=[scb])"
      ],
      "metadata": {
        "colab": {
          "base_uri": "https://localhost:8080/"
        },
        "id": "VdcAPFsT_HeK",
        "outputId": "99c27420-1d32-420d-ef48-0312ccc7aade"
      },
      "execution_count": 20,
      "outputs": [
        {
          "output_type": "stream",
          "name": "stdout",
          "text": [
            "Epoch 1/15\n",
            "63/63 [==============================] - 19s 287ms/step - loss: 0.7276 - accuracy: 0.6528 - val_loss: 0.4045 - val_accuracy: 0.7679\n",
            "Epoch 2/15\n",
            "63/63 [==============================] - 18s 283ms/step - loss: 0.1904 - accuracy: 0.9325 - val_loss: 0.1669 - val_accuracy: 0.9464\n",
            "Epoch 3/15\n",
            "63/63 [==============================] - 18s 292ms/step - loss: 0.0777 - accuracy: 0.9747 - val_loss: 0.2812 - val_accuracy: 0.8651\n",
            "Epoch 4/15\n",
            "63/63 [==============================] - 18s 281ms/step - loss: 0.0692 - accuracy: 0.9772 - val_loss: 0.2805 - val_accuracy: 0.8750\n",
            "Epoch 5/15\n",
            "63/63 [==============================] - 18s 281ms/step - loss: 0.0398 - accuracy: 0.9876 - val_loss: 0.2625 - val_accuracy: 0.9226\n",
            "Epoch 6/15\n",
            "63/63 [==============================] - 18s 279ms/step - loss: 0.0422 - accuracy: 0.9881 - val_loss: 0.0551 - val_accuracy: 0.9841\n"
          ]
        }
      ]
    },
    {
      "cell_type": "code",
      "source": [
        "model.evaluate(train_gen)"
      ],
      "metadata": {
        "colab": {
          "base_uri": "https://localhost:8080/"
        },
        "id": "-Bn-C6pi_JAm",
        "outputId": "94991594-7db9-438e-c7af-09d5dd4adaf8"
      },
      "execution_count": 21,
      "outputs": [
        {
          "output_type": "stream",
          "name": "stdout",
          "text": [
            "63/63 [==============================] - 14s 223ms/step - loss: 0.0055 - accuracy: 0.9990\n"
          ]
        },
        {
          "output_type": "execute_result",
          "data": {
            "text/plain": [
              "[0.005538437981158495, 0.9990079402923584]"
            ]
          },
          "metadata": {},
          "execution_count": 21
        }
      ]
    },
    {
      "cell_type": "code",
      "source": [
        "model.evaluate(test_gen)"
      ],
      "metadata": {
        "colab": {
          "base_uri": "https://localhost:8080/"
        },
        "id": "CuvrPDl1AJAr",
        "outputId": "5e49f51a-ec90-4d86-a63d-234b17f10eaf"
      },
      "execution_count": 22,
      "outputs": [
        {
          "output_type": "stream",
          "name": "stdout",
          "text": [
            "16/16 [==============================] - 3s 216ms/step - loss: 0.0608 - accuracy: 0.9782\n"
          ]
        },
        {
          "output_type": "execute_result",
          "data": {
            "text/plain": [
              "[0.06083712726831436, 0.97817462682724]"
            ]
          },
          "metadata": {},
          "execution_count": 22
        }
      ]
    },
    {
      "cell_type": "code",
      "source": [
        "from plotting import plot_loss_curves\n",
        "plot_loss_curves(history)"
      ],
      "metadata": {
        "id": "9RE9jEiWDQ2v",
        "outputId": "c581e026-efb3-4353-822e-7174efe7d97f",
        "colab": {
          "base_uri": "https://localhost:8080/",
          "height": 565
        }
      },
      "execution_count": 24,
      "outputs": [
        {
          "output_type": "display_data",
          "data": {
            "text/plain": [
              "<Figure size 432x288 with 1 Axes>"
            ],
            "image/png": "[encoded data removed]"
          },
          "metadata": {}
        },
        {
          "output_type": "display_data",
          "data": {
            "text/plain": [
              "<Figure size 432x288 with 1 Axes>"
            ],
            "image/png": "[encoded data removed]"
          },
          "metadata": {}
        }
      ]
    }
  ]
}
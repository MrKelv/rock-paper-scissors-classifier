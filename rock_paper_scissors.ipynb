{
  "nbformat": 4,
  "nbformat_minor": 0,
  "metadata": {
    "colab": {
      "name": "rock-paper-scissors.ipynb",
      "provenance": []
    },
    "kernelspec": {
      "name": "python3",
      "display_name": "Python 3"
    },
    "language_info": {
      "name": "python"
    }
  },
  "cells": [
    {
      "cell_type": "code",
      "execution_count": null,
      "metadata": {
        "id": "zsEWEHvxnaiu"
      },
      "outputs": [],
      "source": [
        "import tensorflow as tf\n",
        "import tensorflow.datasets as tfds\n",
        "from tensorflow.keras.preprocessing.image import ImageDataGenerator"
      ]
    },
    {
      "cell_type": "code",
      "source": [
        "# download dataset\n",
        "data, info = tfds.load(\n",
        "    name='rock_paper_scissors',\n",
        "    split=['train','test'],\n",
        "    with_info=True)"
      ],
      "metadata": {
        "id": "prPMKbcanvTp"
      },
      "execution_count": null,
      "outputs": []
    }
  ]
}